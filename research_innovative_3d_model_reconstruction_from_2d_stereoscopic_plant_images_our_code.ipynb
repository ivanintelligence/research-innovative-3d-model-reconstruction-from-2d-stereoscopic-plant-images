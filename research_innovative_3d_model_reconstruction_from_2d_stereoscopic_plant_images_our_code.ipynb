{
  "nbformat": 4,
  "nbformat_minor": 0,
  "metadata": {
    "colab": {
      "provenance": []
    },
    "kernelspec": {
      "name": "python3",
      "display_name": "Python 3"
    },
    "language_info": {
      "name": "python"
    }
  },
  "cells": [
    {
      "cell_type": "markdown",
      "source": [
        "# Installations"
      ],
      "metadata": {
        "id": "Vga9fNyXueKs"
      }
    },
    {
      "cell_type": "markdown",
      "source": [
        "# Import statements"
      ],
      "metadata": {
        "id": "7iCnJZ_kt1Sn"
      }
    },
    {
      "cell_type": "markdown",
      "source": [
        "# Global variables"
      ],
      "metadata": {
        "id": "poyxuz4EueM4"
      }
    },
    {
      "cell_type": "markdown",
      "source": [
        "# Functions"
      ],
      "metadata": {
        "id": "3isk7nzRueIF"
      }
    },
    {
      "cell_type": "markdown",
      "source": [
        "# Program start"
      ],
      "metadata": {
        "id": "SotKIV8BueFv"
      }
    },
    {
      "cell_type": "markdown",
      "source": [
        "## Preliminaries"
      ],
      "metadata": {
        "id": "ZXvH8HJKwvag"
      }
    },
    {
      "cell_type": "markdown",
      "source": [
        "### Mount Google Drive"
      ],
      "metadata": {
        "id": "-UAW5af0ud68"
      }
    },
    {
      "cell_type": "markdown",
      "source": [
        "### Retrieve stereo images"
      ],
      "metadata": {
        "id": "NBEKkEcfud3M"
      }
    },
    {
      "cell_type": "markdown",
      "source": [
        "### Display stereo images"
      ],
      "metadata": {
        "id": "-0REKlweudym"
      }
    },
    {
      "cell_type": "markdown",
      "source": [
        "## Camera Calibration, and Image Rectification"
      ],
      "metadata": {
        "id": "H-bxN9hhudvm"
      }
    },
    {
      "cell_type": "markdown",
      "source": [
        "## Image Segmentation"
      ],
      "metadata": {
        "id": "7NHmFoX0udsm"
      }
    },
    {
      "cell_type": "markdown",
      "source": [
        "### Segment plant objects"
      ],
      "metadata": {
        "id": "Y0a-uBf_udqA"
      }
    },
    {
      "cell_type": "markdown",
      "source": [
        "### Save segmented images"
      ],
      "metadata": {
        "id": "B81-cr8AudnX"
      }
    },
    {
      "cell_type": "markdown",
      "source": [
        "### Display segmented images"
      ],
      "metadata": {
        "id": "c3pIcuFnudkr"
      }
    },
    {
      "cell_type": "markdown",
      "source": [
        "## Depth Map Generation"
      ],
      "metadata": {
        "id": "_ZDci-3YudiW"
      }
    },
    {
      "cell_type": "markdown",
      "source": [
        "### Generate depth maps"
      ],
      "metadata": {
        "id": "jEe32oEcudfx"
      }
    },
    {
      "cell_type": "markdown",
      "source": [
        "### Save depth maps"
      ],
      "metadata": {
        "id": "09OuqNX3uddW"
      }
    },
    {
      "cell_type": "markdown",
      "source": [
        "### Display depth maps"
      ],
      "metadata": {
        "id": "xGtCGlawudbC"
      }
    },
    {
      "cell_type": "markdown",
      "source": [
        "## Point Cloud Generation"
      ],
      "metadata": {
        "id": "MxK3tOuHudYz"
      }
    },
    {
      "cell_type": "markdown",
      "source": [
        "### Generate point clouds"
      ],
      "metadata": {
        "id": "XWzGOfKQudWr"
      }
    },
    {
      "cell_type": "markdown",
      "source": [
        "### Save point clouds"
      ],
      "metadata": {
        "id": "g_YMmSKSudUk"
      }
    },
    {
      "cell_type": "markdown",
      "source": [
        "### Display point clouds"
      ],
      "metadata": {
        "id": "UKBLpuBbudSc"
      }
    },
    {
      "cell_type": "markdown",
      "source": [
        "## Point Cloud Registration"
      ],
      "metadata": {
        "id": "hko9PJr_udQX"
      }
    },
    {
      "cell_type": "markdown",
      "source": [
        "### Merge point clouds"
      ],
      "metadata": {
        "id": "3f-J5X_oudN1"
      }
    },
    {
      "cell_type": "markdown",
      "source": [
        "### Save merged point cloud"
      ],
      "metadata": {
        "id": "pulZZw2PudMK"
      }
    },
    {
      "cell_type": "markdown",
      "source": [
        "### Display merged point cloud"
      ],
      "metadata": {
        "id": "f4xD1rGhudDE"
      }
    },
    {
      "cell_type": "markdown",
      "source": [
        "## Mesh Generation"
      ],
      "metadata": {
        "id": "ssEkwhgwwR29"
      }
    },
    {
      "cell_type": "markdown",
      "source": [
        "### Generate mesh from merged point cloud"
      ],
      "metadata": {
        "id": "m11EPiZywR05"
      }
    },
    {
      "cell_type": "markdown",
      "source": [
        "### Save 3D mesh model"
      ],
      "metadata": {
        "id": "nQNlMd46wRw_"
      }
    },
    {
      "cell_type": "markdown",
      "source": [
        "### Display 3D mesh model"
      ],
      "metadata": {
        "id": "6P7NnalzwRun"
      }
    }
  ]
}
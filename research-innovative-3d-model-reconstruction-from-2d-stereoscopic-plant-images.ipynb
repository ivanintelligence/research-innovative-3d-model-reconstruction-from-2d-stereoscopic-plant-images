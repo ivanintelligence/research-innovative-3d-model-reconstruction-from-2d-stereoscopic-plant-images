{
  "nbformat": 4,
  "nbformat_minor": 0,
  "metadata": {
    "colab": {
      "provenance": [],
      "authorship_tag": "ABX9TyNjVbn85BWSk1cBbHVhrckC",
      "include_colab_link": true
    },
    "kernelspec": {
      "name": "python3",
      "display_name": "Python 3"
    },
    "language_info": {
      "name": "python"
    }
  },
  "cells": [
    {
      "cell_type": "markdown",
      "metadata": {
        "id": "view-in-github",
        "colab_type": "text"
      },
      "source": [
        "<a href=\"https://colab.research.google.com/github/ivanintelligence/research-innovative-3d-model-reconstruction-from-2d-stereoscopic-plant-images/blob/main/research-innovative-3d-model-reconstruction-from-2d-stereoscopic-plant-images.ipynb\" target=\"_parent\"><img src=\"https://colab.research.google.com/assets/colab-badge.svg\" alt=\"Open In Colab\"/></a>"
      ]
    },
    {
      "cell_type": "code",
      "execution_count": null,
      "metadata": {
        "id": "HrRFbZl-bwDB"
      },
      "outputs": [],
      "source": []
    }
  ]
}
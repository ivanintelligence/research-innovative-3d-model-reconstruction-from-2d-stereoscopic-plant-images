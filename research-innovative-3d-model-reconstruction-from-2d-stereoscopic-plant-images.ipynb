{
  "nbformat": 4,
  "nbformat_minor": 0,
  "metadata": {
    "colab": {
      "provenance": [],
      "include_colab_link": true
    },
    "kernelspec": {
      "name": "python3",
      "display_name": "Python 3"
    },
    "language_info": {
      "name": "python"
    }
  },
  "cells": [
    {
      "cell_type": "markdown",
      "metadata": {
        "id": "view-in-github",
        "colab_type": "text"
      },
      "source": [
        "<a href=\"https://colab.research.google.com/github/ivanintelligence/research-innovative-3d-model-reconstruction-from-2d-stereoscopic-plant-images/blob/main/research-innovative-3d-model-reconstruction-from-2d-stereoscopic-plant-images.ipynb\" target=\"_parent\"><img src=\"https://colab.research.google.com/assets/colab-badge.svg\" alt=\"Open In Colab\"/></a>"
      ]
    },
    {
      "cell_type": "markdown",
      "source": [
        "# (Optional) Google Colab repository"
      ],
      "metadata": {
        "id": "50A9FOK-eInp"
      }
    },
    {
      "cell_type": "markdown",
      "source": [
        "## Clone a repository from my GitHub onto this Google Colab notebook"
      ],
      "metadata": {
        "id": "RCTLLIcxe8Ok"
      }
    },
    {
      "cell_type": "code",
      "source": [
        "!git clone https://github.com/username/repository-name.git"
      ],
      "metadata": {
        "id": "hci8_tkziH3q"
      },
      "execution_count": null,
      "outputs": []
    },
    {
      "cell_type": "markdown",
      "source": [
        "Replace \"username\" with \"ivanintelligence\".  \n",
        "Replace \"repository-name.git\" with the web URL of the GitHub repository."
      ],
      "metadata": {
        "id": "x7zngVn9iJi7"
      }
    },
    {
      "cell_type": "markdown",
      "source": [
        "## Change the working directory of this Google Colab notebook onto the Google Colab repository"
      ],
      "metadata": {
        "id": "VMdGIt_Ee-vB"
      }
    },
    {
      "cell_type": "code",
      "source": [
        "%cd repository-name"
      ],
      "metadata": {
        "id": "ZbSvDHlyie9I"
      },
      "execution_count": null,
      "outputs": []
    },
    {
      "cell_type": "markdown",
      "source": [
        "Replace \"repository-name\" with the name of the GitHub repository."
      ],
      "metadata": {
        "id": "RnJ1KUepigNZ"
      }
    },
    {
      "cell_type": "markdown",
      "source": [
        "## Stage the changes of the current branch of the Google Colab repository"
      ],
      "metadata": {
        "id": "3kufy4BYe-sh"
      }
    },
    {
      "cell_type": "code",
      "source": [
        "!git add ."
      ],
      "metadata": {
        "id": "u_6Z57Q_inHT"
      },
      "execution_count": null,
      "outputs": []
    },
    {
      "cell_type": "markdown",
      "source": [
        "## Commit the changes of the current branch of the Google Colab repository"
      ],
      "metadata": {
        "id": "vry3WEU8e-qD"
      }
    },
    {
      "cell_type": "code",
      "source": [
        "!git commit -m \"Updated notebook\""
      ],
      "metadata": {
        "id": "AiCM4J55iuSd"
      },
      "execution_count": null,
      "outputs": []
    },
    {
      "cell_type": "markdown",
      "source": [
        "(Optional) Replace \"Updated notebook\" with a message describing what was updated."
      ],
      "metadata": {
        "id": "jbPcX8Gpiuob"
      }
    },
    {
      "cell_type": "markdown",
      "source": [
        "## Authenticate my GitHub credentials onto the Google Colab repository"
      ],
      "metadata": {
        "id": "vSjZ4n8ie-n_"
      }
    },
    {
      "cell_type": "code",
      "source": [
        "!git remote set-url origin https://<your-github-username>:<your-token>@github.com/username/repository-name.git"
      ],
      "metadata": {
        "id": "dsr0ysk7jSEI"
      },
      "execution_count": null,
      "outputs": []
    },
    {
      "cell_type": "markdown",
      "source": [
        "Replace \"your-github-username\" with \"ivanintelligence\".  \n",
        "Replace \"your-token\" with my Personal Access Token.  \n",
        "Replace \"username\" with \"ivanintelligence\".  \n",
        "Replace \"repository-name.git\" with the web URL of the GitHub repository."
      ],
      "metadata": {
        "id": "bgFffxxDjUOD"
      }
    },
    {
      "cell_type": "markdown",
      "source": [
        "## Push the changes of the current branch of the Google Colab repository onto a branch in my GitHub repository"
      ],
      "metadata": {
        "id": "-P7nefI6e-X7"
      }
    },
    {
      "cell_type": "code",
      "source": [
        "!git push origin main"
      ],
      "metadata": {
        "id": "nzMOM7WskAbJ"
      },
      "execution_count": null,
      "outputs": []
    },
    {
      "cell_type": "markdown",
      "source": [
        "(Optional) Replace \"main\" if I want a different receiving branch in my GitHub repository."
      ],
      "metadata": {
        "id": "ryRxeKylkA1Y"
      }
    },
    {
      "cell_type": "markdown",
      "source": [
        "## (Optional) Pull the changes of a branch in my GitHub repository onto the Google Colab repository"
      ],
      "metadata": {
        "id": "y6sqFm6ce-UM"
      }
    },
    {
      "cell_type": "code",
      "source": [
        "!git pull origin main"
      ],
      "metadata": {
        "id": "eZt66NM7khec"
      },
      "execution_count": null,
      "outputs": []
    },
    {
      "cell_type": "markdown",
      "source": [
        "(Optional) Replace \"main\" if I want a different forwarding branch in my GitHub repository."
      ],
      "metadata": {
        "id": "lQ6wW-iWklYJ"
      }
    },
    {
      "cell_type": "markdown",
      "source": [
        "## (Optional) Other Git commands"
      ],
      "metadata": {
        "id": "3PrKOGOZe-RW"
      }
    },
    {
      "cell_type": "markdown",
      "source": [
        "### Create a new branch in the Google Colab repository"
      ],
      "metadata": {
        "id": "LNfar3PWe-C4"
      }
    },
    {
      "cell_type": "code",
      "source": [
        "!git branch branch-name"
      ],
      "metadata": {
        "id": "1VwAbZ2Tm4qt"
      },
      "execution_count": null,
      "outputs": []
    },
    {
      "cell_type": "markdown",
      "source": [
        "Replace \"branch-name\" with the correct branch name."
      ],
      "metadata": {
        "id": "cn60PcW_m5EX"
      }
    },
    {
      "cell_type": "markdown",
      "source": [
        "### Safe-delete a branch (i.e., only deletes when merge has been applied) in the Google Colab repository (i.e., local branch)"
      ],
      "metadata": {
        "id": "mvAO2Wede-Ax"
      }
    },
    {
      "cell_type": "code",
      "source": [
        "!git branch -d branch-name"
      ],
      "metadata": {
        "id": "ztTNrEULl2Mj"
      },
      "execution_count": null,
      "outputs": []
    },
    {
      "cell_type": "markdown",
      "source": [
        "Replace \"branch-name\" with the correct branch name."
      ],
      "metadata": {
        "id": "jsknBrF3l8Co"
      }
    },
    {
      "cell_type": "markdown",
      "source": [
        "### Force-delete a branch (i.e., deletes even when merge has not been applied) in the Google Colab repository (i.e., local branch)"
      ],
      "metadata": {
        "id": "bnBaVmdqe9-z"
      }
    },
    {
      "cell_type": "code",
      "source": [
        "!git branch -D branch-name"
      ],
      "metadata": {
        "id": "7Z-Ff0AMl8_C"
      },
      "execution_count": null,
      "outputs": []
    },
    {
      "cell_type": "markdown",
      "source": [
        "Replace \"branch-name\" with the correct branch name."
      ],
      "metadata": {
        "id": "Zx-Vc8FBl9M6"
      }
    },
    {
      "cell_type": "markdown",
      "source": [
        "### Delete a branch in my GitHub repository (i.e., remote branch)"
      ],
      "metadata": {
        "id": "MB-6xQ8RmILf"
      }
    },
    {
      "cell_type": "code",
      "source": [
        "!git push origin --delete branch-name"
      ],
      "metadata": {
        "id": "Kw2FVCBcmUmi"
      },
      "execution_count": null,
      "outputs": []
    },
    {
      "cell_type": "markdown",
      "source": [
        "Replace \"branch-name\" with the correct branch name."
      ],
      "metadata": {
        "id": "Spi7bea3mU0X"
      }
    },
    {
      "cell_type": "markdown",
      "source": [
        "### List all branches of the Google Colab repository (i.e., local branches)"
      ],
      "metadata": {
        "id": "PavNxvdze-I3"
      }
    },
    {
      "cell_type": "code",
      "source": [
        "!git branch"
      ],
      "metadata": {
        "id": "yXVbK0e7kz2a"
      },
      "execution_count": null,
      "outputs": []
    },
    {
      "cell_type": "markdown",
      "source": [
        "### List all branches of my GitHub repository (i.e., remote branches)"
      ],
      "metadata": {
        "id": "CWVWssoOe-G4"
      }
    },
    {
      "cell_type": "code",
      "source": [
        "!git branch -r"
      ],
      "metadata": {
        "id": "DTcahXmbk2uv"
      },
      "execution_count": null,
      "outputs": []
    },
    {
      "cell_type": "markdown",
      "source": [
        "### List all branches of the Google Colab repository and my GitHub repository (i.e., local and remote branches)"
      ],
      "metadata": {
        "id": "iQnHBJm0e-E4"
      }
    },
    {
      "cell_type": "code",
      "source": [
        "!git branch -a"
      ],
      "metadata": {
        "id": "U3TXH8muk42s"
      },
      "execution_count": null,
      "outputs": []
    },
    {
      "cell_type": "markdown",
      "source": [
        "### Check the current branch I am working on in the Google Colab repository"
      ],
      "metadata": {
        "id": "H8Y5Lb5Ue-OH"
      }
    },
    {
      "cell_type": "code",
      "source": [
        "!git branch"
      ],
      "metadata": {
        "id": "LkXrpsKjmkvE"
      },
      "execution_count": null,
      "outputs": []
    },
    {
      "cell_type": "markdown",
      "source": [
        "### Switch to another branch in the Google Colab repository"
      ],
      "metadata": {
        "id": "f7ZuUmCSe-LH"
      }
    },
    {
      "cell_type": "code",
      "source": [
        "!git checkout branch-name"
      ],
      "metadata": {
        "id": "WH6yosczk-VN"
      },
      "execution_count": null,
      "outputs": []
    },
    {
      "cell_type": "markdown",
      "source": [
        "Replace \"branch-name\" with the correct branch name."
      ],
      "metadata": {
        "id": "I01hBQytlQW3"
      }
    },
    {
      "cell_type": "markdown",
      "source": [
        "### Check the commit history of a branch in the Google Colab repository"
      ],
      "metadata": {
        "id": "H6YUvjLNe98x"
      }
    },
    {
      "cell_type": "code",
      "source": [
        "!git log branch-name"
      ],
      "metadata": {
        "id": "4BFCCYKHmbA6"
      },
      "execution_count": null,
      "outputs": []
    },
    {
      "cell_type": "markdown",
      "source": [
        "Replace \"branch-name\" with the correct branch name."
      ],
      "metadata": {
        "id": "Wwr1_LAkmbWw"
      }
    },
    {
      "cell_type": "markdown",
      "source": [
        "### Merge branches in the Google Colab repository"
      ],
      "metadata": {
        "id": "fdvkkmeRe96y"
      }
    },
    {
      "cell_type": "code",
      "source": [
        "!git merge branch-name"
      ],
      "metadata": {
        "id": "hAqt06e5mnzj"
      },
      "execution_count": null,
      "outputs": []
    },
    {
      "cell_type": "markdown",
      "source": [
        "Replace \"branch-name\" with the branch you want your current branch to be merged with."
      ],
      "metadata": {
        "id": "Krr5EjVqmoMM"
      }
    },
    {
      "cell_type": "markdown",
      "source": [
        "### Check the statuses of changes in the Google Colab repository"
      ],
      "metadata": {
        "id": "PsE2rIA-e941"
      }
    },
    {
      "cell_type": "code",
      "source": [
        "!git status"
      ],
      "metadata": {
        "id": "Febe-qKJmy9A"
      },
      "execution_count": null,
      "outputs": []
    }
  ]
}